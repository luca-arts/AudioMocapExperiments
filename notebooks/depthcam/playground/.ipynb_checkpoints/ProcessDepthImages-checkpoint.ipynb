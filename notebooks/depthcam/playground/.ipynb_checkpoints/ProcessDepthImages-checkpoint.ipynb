{
 "cells": [
  {
   "cell_type": "code",
   "execution_count": 2,
   "id": "6aed0ff3",
   "metadata": {},
   "outputs": [
    {
     "ename": "FileNotFoundError",
     "evalue": "[Errno 2] No such file or directory: '../AudioMOCAP/realsense/recording/alpha/'",
     "output_type": "error",
     "traceback": [
      "\u001b[0;31m---------------------------------------------------------------------------\u001b[0m",
      "\u001b[0;31mFileNotFoundError\u001b[0m                         Traceback (most recent call last)",
      "Input \u001b[0;32mIn [2]\u001b[0m, in \u001b[0;36m<cell line: 11>\u001b[0;34m()\u001b[0m\n\u001b[1;32m      8\u001b[0m prefix \u001b[38;5;241m=\u001b[39m \u001b[38;5;124m\"\u001b[39m\u001b[38;5;124mimage\u001b[39m\u001b[38;5;124m\"\u001b[39m\n\u001b[1;32m      9\u001b[0m extension \u001b[38;5;241m=\u001b[39m \u001b[38;5;124m\"\u001b[39m\u001b[38;5;124mpng\u001b[39m\u001b[38;5;124m\"\u001b[39m\n\u001b[0;32m---> 11\u001b[0m files \u001b[38;5;241m=\u001b[39m [(f, f[f\u001b[38;5;241m.\u001b[39mrfind(\u001b[38;5;124m\"\u001b[39m\u001b[38;5;124m.\u001b[39m\u001b[38;5;124m\"\u001b[39m):], f[:f\u001b[38;5;241m.\u001b[39mrfind(\u001b[38;5;124m\"\u001b[39m\u001b[38;5;124m.\u001b[39m\u001b[38;5;124m\"\u001b[39m)]\u001b[38;5;241m.\u001b[39mreplace(prefix, \u001b[38;5;124m\"\u001b[39m\u001b[38;5;124m\"\u001b[39m)) \u001b[38;5;28;01mfor\u001b[39;00m f \u001b[38;5;129;01min\u001b[39;00m \u001b[43mos\u001b[49m\u001b[38;5;241;43m.\u001b[39;49m\u001b[43mlistdir\u001b[49m\u001b[43m(\u001b[49m\u001b[43msourcedir\u001b[49m\u001b[43m)\u001b[49m \u001b[38;5;28;01mif\u001b[39;00m f\u001b[38;5;241m.\u001b[39mendswith(extension)]\n\u001b[1;32m     12\u001b[0m maxlen \u001b[38;5;241m=\u001b[39m \u001b[38;5;28mlen\u001b[39m(\u001b[38;5;28mmax\u001b[39m([f[\u001b[38;5;241m2\u001b[39m] \u001b[38;5;28;01mfor\u001b[39;00m f \u001b[38;5;129;01min\u001b[39;00m files], key \u001b[38;5;241m=\u001b[39m \u001b[38;5;28mlen\u001b[39m))\n\u001b[1;32m     14\u001b[0m \u001b[38;5;28;01mfor\u001b[39;00m item \u001b[38;5;129;01min\u001b[39;00m files:\n",
      "\u001b[0;31mFileNotFoundError\u001b[0m: [Errno 2] No such file or directory: '../AudioMOCAP/realsense/recording/alpha/'"
     ]
    }
   ],
   "source": [
    "# prepare input files (images > mp4)\n",
    "#!/usr/bin/env python3\n",
    "\n",
    "import shutil\n",
    "import os\n",
    "\n",
    "print()\n",
    "\n",
    "sourcedir = \"../AudioMOCAP/realsense/recording/alpha/\"\n",
    "prefix = \"image\"\n",
    "extension = \"png\"\n",
    "\n",
    "files = [(f, f[f.rfind(\".\"):], f[:f.rfind(\".\")].replace(prefix, \"\")) for f in os.listdir(sourcedir) if f.endswith(extension)]\n",
    "maxlen = len(max([f[2] for f in files], key = len))\n",
    "\n",
    "for item in files:\n",
    "    zeros = maxlen - len(item[2])\n",
    "    shutil.move(sourcedir+\"/\"+item[0], sourcedir+\"/\"+prefix+str(zeros*\"0\"+item[2])+item[1])\n"
   ]
  },
  {
   "cell_type": "code",
   "execution_count": null,
   "id": "3ef5076b",
   "metadata": {},
   "outputs": [],
   "source": [
    "\n",
    "\n",
    "\n",
    "depth = cv2.VideoCapture('chaplin.mp4')"
   ]
  }
 ],
 "metadata": {
  "kernelspec": {
   "display_name": "Python 3.8.0 ('audiomocap')",
   "language": "python",
   "name": "python380jvsc74a57bd0cdec39b19a8871c5018eb17b0a4004720a4d1ebdcc6fb67b0f3daaf77d6affab"
  },
  "language_info": {
   "codemirror_mode": {
    "name": "ipython",
    "version": 3
   },
   "file_extension": ".py",
   "mimetype": "text/x-python",
   "name": "python",
   "nbconvert_exporter": "python",
   "pygments_lexer": "ipython3",
   "version": "3.8.0"
  }
 },
 "nbformat": 4,
 "nbformat_minor": 5
}
