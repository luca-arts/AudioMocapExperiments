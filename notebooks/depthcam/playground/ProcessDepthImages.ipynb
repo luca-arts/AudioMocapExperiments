{
 "cells": [
  {
   "cell_type": "markdown",
   "id": "8c6301bb",
   "metadata": {},
   "source": [
    "# prepare files\n",
    "## pad files with zeroes\n",
    "set sourcedir, prefix and extension"
   ]
  },
  {
   "cell_type": "code",
   "execution_count": null,
   "id": "ecb08330",
   "metadata": {},
   "outputs": [],
   "source": [
    "#!/usr/bin/env python3\n",
    "\n",
    "import shutil\n",
    "import os\n",
    "\n",
    "\n",
    "sourcedir = \"../../../../AudioMOCAP/realsense/dataset2/unfiltered/\"\n",
    "prefix = \"image\"\n",
    "extension = \"png\"\n",
    "\n",
    "files = [(f, f[f.rfind(\".\"):], f[:f.rfind(\".\")].replace(prefix, \"\")) for f in os.listdir(sourcedir) if f.endswith(extension)]\n",
    "maxlen = len(max([f[2] for f in files], key = len))\n",
    "\n",
    "for item in files:\n",
    "    zeros = maxlen - len(item[2])\n",
    "    shutil.move(sourcedir+\"/\"+item[0], sourcedir+\"/\"+prefix+str(zeros*\"0\"+item[2])+item[1])\n",
    "\n",
    "    \n",
    "prevdir = !pwd\n",
    "print(prevdir)\n",
    "os.chdir(sourcedir)\n",
    "!ffmpeg -framerate 30 -pattern_type glob -i \"*.png\" unfiltered.mp4"
   ]
  },
  {
   "cell_type": "code",
   "execution_count": null,
   "id": "67a59db0",
   "metadata": {},
   "outputs": [],
   "source": [
    "## turn into mp4"
   ]
  },
  {
   "cell_type": "code",
   "execution_count": null,
   "id": "8ecd1355",
   "metadata": {
    "scrolled": true
   },
   "outputs": [],
   "source": [
    "!pwd\n",
    "!ls\n",
    "!ffmpeg -framerate 25 -pattern_type glob -i \"*.png\" alpha.mp4\n"
   ]
  },
  {
   "cell_type": "code",
   "execution_count": 6,
   "id": "62788d62",
   "metadata": {},
   "outputs": [
    {
     "name": "stdout",
     "output_type": "stream",
     "text": [
      "/home/kaos/Documents/LUCA/PWO/AudioMocapExperiments\n",
      "20220318_151034_429.mp4\t\t  depth1flipped.mp4  notebooks\n",
      "20220318_151034_429.mp4.reapeaks  depth1.mp4\t     README.md\n",
      "color1.mp4\t\t\t  depth2flipped.mp4  setup.py\n",
      "color2flipped.mp4\t\t  depth2.mp4\t     unfiltered1.mp4\n",
      "color2.mp4\t\t\t  environment.yml    unfiltered2flipped.mp4\n",
      "dataset1\t\t\t  LICENSE\t     unfiltered2.mp4\n"
     ]
    }
   ],
   "source": [
    "import shutil\n",
    "import os\n",
    "print(os.getcwd())\n",
    "os.chdir(\"/home/kaos/Documents/LUCA/PWO/AudioMocapExperiments/\")\n",
    "!ls\n",
    "# !mv \"alpha2.mp4\" {prevdir} "
   ]
  },
  {
   "cell_type": "markdown",
   "id": "25ba3fe7",
   "metadata": {},
   "source": [
    "## filpV/flipH video"
   ]
  },
  {
   "cell_type": "code",
   "execution_count": 8,
   "id": "79847bd0",
   "metadata": {},
   "outputs": [
    {
     "name": "stdout",
     "output_type": "stream",
     "text": [
      "ffmpeg version 4.4.1-3ubuntu5 Copyright (c) 2000-2021 the FFmpeg developers\n",
      "  built with gcc 11 (Ubuntu 11.2.0-18ubuntu1)\n",
      "  configuration: --prefix=/usr --extra-version=3ubuntu5 --toolchain=hardened --libdir=/usr/lib/x86_64-linux-gnu --incdir=/usr/include/x86_64-linux-gnu --arch=amd64 --enable-gpl --disable-stripping --enable-gnutls --enable-ladspa --enable-libaom --enable-libass --enable-libbluray --enable-libbs2b --enable-libcaca --enable-libcdio --enable-libcodec2 --enable-libdav1d --enable-libflite --enable-libfontconfig --enable-libfreetype --enable-libfribidi --enable-libgme --enable-libgsm --enable-libjack --enable-libmp3lame --enable-libmysofa --enable-libopenjpeg --enable-libopenmpt --enable-libopus --enable-libpulse --enable-librabbitmq --enable-librubberband --enable-libshine --enable-libsnappy --enable-libsoxr --enable-libspeex --enable-libsrt --enable-libssh --enable-libtheora --enable-libtwolame --enable-libvidstab --enable-libvorbis --enable-libvpx --enable-libwebp --enable-libx265 --enable-libxml2 --enable-libxvid --enable-libzimg --enable-libzmq --enable-libzvbi --enable-lv2 --enable-omx --enable-openal --enable-opencl --enable-opengl --enable-sdl2 --enable-pocketsphinx --enable-librsvg --enable-libmfx --enable-libdc1394 --enable-libdrm --enable-libiec61883 --enable-chromaprint --enable-frei0r --enable-libx264 --enable-shared\n",
      "  WARNING: library configuration mismatch\n",
      "  avcodec     configuration: --prefix=/usr --extra-version=3ubuntu5 --toolchain=hardened --libdir=/usr/lib/x86_64-linux-gnu --incdir=/usr/include/x86_64-linux-gnu --arch=amd64 --enable-gpl --disable-stripping --enable-gnutls --enable-ladspa --enable-libaom --enable-libass --enable-libbluray --enable-libbs2b --enable-libcaca --enable-libcdio --enable-libcodec2 --enable-libdav1d --enable-libflite --enable-libfontconfig --enable-libfreetype --enable-libfribidi --enable-libgme --enable-libgsm --enable-libjack --enable-libmp3lame --enable-libmysofa --enable-libopenjpeg --enable-libopenmpt --enable-libopus --enable-libpulse --enable-librabbitmq --enable-librubberband --enable-libshine --enable-libsnappy --enable-libsoxr --enable-libspeex --enable-libsrt --enable-libssh --enable-libtheora --enable-libtwolame --enable-libvidstab --enable-libvorbis --enable-libvpx --enable-libwebp --enable-libx265 --enable-libxml2 --enable-libxvid --enable-libzimg --enable-libzmq --enable-libzvbi --enable-lv2 --enable-omx --enable-openal --enable-opencl --enable-opengl --enable-sdl2 --enable-pocketsphinx --enable-librsvg --enable-libmfx --enable-libdc1394 --enable-libdrm --enable-libiec61883 --enable-chromaprint --enable-frei0r --enable-libx264 --enable-shared --enable-version3 --disable-doc --disable-programs --enable-libaribb24 --enable-libopencore_amrnb --enable-libopencore_amrwb --enable-libtesseract --enable-libvo_amrwbenc --enable-libsmbclient\n",
      "  libavutil      56. 70.100 / 56. 70.100\n",
      "  libavcodec     58.134.100 / 58.134.100\n",
      "  libavformat    58. 76.100 / 58. 76.100\n",
      "  libavdevice    58. 13.100 / 58. 13.100\n",
      "  libavfilter     7.110.100 /  7.110.100\n",
      "  libswscale      5.  9.100 /  5.  9.100\n",
      "  libswresample   3.  9.100 /  3.  9.100\n",
      "  libpostproc    55.  9.100 / 55.  9.100\n",
      "Input #0, mov,mp4,m4a,3gp,3g2,mj2, from 'color1.mp4':\n",
      "  Metadata:\n",
      "    major_brand     : isom\n",
      "    minor_version   : 512\n",
      "    compatible_brands: isomiso2avc1mp41\n",
      "    encoder         : Lavf58.76.100\n",
      "  Duration: 00:01:08.27, start: 0.000000, bitrate: 1316 kb/s\n",
      "  Stream #0:0(und): Video: h264 (High 4:4:4 Predictive) (avc1 / 0x31637661), yuv444p, 640x480, 1313 kb/s, 30 fps, 30 tbr, 15360 tbn, 60 tbc (default)\n",
      "    Metadata:\n",
      "      handler_name    : VideoHandler\n",
      "      vendor_id       : [0][0][0][0]\n",
      "Stream mapping:\n",
      "  Stream #0:0 -> #0:0 (h264 (native) -> h264 (libx264))\n",
      "Press [q] to stop, [?] for help\n",
      "\u001b[1;36m[libx264 @ 0x55b0b61ddc40] \u001b[0musing cpu capabilities: MMX2 SSE2Fast SSSE3 SSE4.2 AVX FMA3 BMI2 AVX2\n",
      "\u001b[1;36m[libx264 @ 0x55b0b61ddc40] \u001b[0mprofile High 4:4:4 Predictive, level 3.0, 4:4:4, 8-bit\n",
      "\u001b[1;36m[libx264 @ 0x55b0b61ddc40] \u001b[0m264 - core 163 r3060 5db6aa6 - H.264/MPEG-4 AVC codec - Copyleft 2003-2021 - http://www.videolan.org/x264.html - options: cabac=1 ref=3 deblock=1:0:0 analyse=0x3:0x113 me=hex subme=7 psy=1 psy_rd=1.00:0.00 mixed_ref=1 me_range=16 chroma_me=1 trellis=1 8x8dct=1 cqm=0 deadzone=21,11 fast_pskip=1 chroma_qp_offset=4 threads=15 lookahead_threads=2 sliced_threads=0 nr=0 decimate=1 interlaced=0 bluray_compat=0 constrained_intra=0 bframes=3 b_pyramid=2 b_adapt=1 b_bias=0 direct=1 weightb=1 open_gop=0 weightp=2 keyint=250 keyint_min=25 scenecut=40 intra_refresh=0 rc_lookahead=40 rc=crf mbtree=1 crf=23.0 qcomp=0.60 qpmin=0 qpmax=69 qpstep=4 ip_ratio=1.40 aq=1:1.00\n",
      "Output #0, mp4, to 'color1flipped.mp4':\n",
      "  Metadata:\n",
      "    major_brand     : isom\n",
      "    minor_version   : 512\n",
      "    compatible_brands: isomiso2avc1mp41\n",
      "    encoder         : Lavf58.76.100\n",
      "  Stream #0:0(und): Video: h264 (avc1 / 0x31637661), yuv444p(progressive), 640x480, q=2-31, 30 fps, 15360 tbn (default)\n",
      "    Metadata:\n",
      "      handler_name    : VideoHandler\n",
      "      vendor_id       : [0][0][0][0]\n",
      "      encoder         : Lavc58.134.100 libx264\n",
      "    Side data:\n",
      "      cpb: bitrate max/min/avg: 0/0/0 buffer size: 0 vbv_delay: N/A\n",
      "frame= 2048 fps=213 q=-1.0 Lsize=    9200kB time=00:01:08.16 bitrate=1105.6kbits/s speed= 7.1x    \n",
      "video:9175kB audio:0kB subtitle:0kB other streams:0kB global headers:0kB muxing overhead: 0.270898%\n",
      "\u001b[1;36m[libx264 @ 0x55b0b61ddc40] \u001b[0mframe I:10    Avg QP:20.50  size: 60864\n",
      "\u001b[1;36m[libx264 @ 0x55b0b61ddc40] \u001b[0mframe P:540   Avg QP:23.08  size: 12172\n",
      "\u001b[1;36m[libx264 @ 0x55b0b61ddc40] \u001b[0mframe B:1498  Avg QP:29.22  size:  1477\n",
      "\u001b[1;36m[libx264 @ 0x55b0b61ddc40] \u001b[0mconsecutive B-frames:  0.8%  4.3%  2.3% 92.6%\n",
      "\u001b[1;36m[libx264 @ 0x55b0b61ddc40] \u001b[0mmb I  I16..4:  4.8% 56.7% 38.4%\n",
      "\u001b[1;36m[libx264 @ 0x55b0b61ddc40] \u001b[0mmb P  I16..4:  0.7%  2.4%  0.7%  P16..4: 43.7% 14.8% 12.5%  0.0%  0.0%    skip:25.3%\n",
      "\u001b[1;36m[libx264 @ 0x55b0b61ddc40] \u001b[0mmb B  I16..4:  0.1%  0.3%  0.1%  B16..8: 36.2%  3.5%  1.1%  direct: 0.9%  skip:57.8%  L0:47.2% L1:45.0% BI: 7.8%\n",
      "\u001b[1;36m[libx264 @ 0x55b0b61ddc40] \u001b[0m8x8 transform intra:61.5% inter:65.4%\n",
      "\u001b[1;36m[libx264 @ 0x55b0b61ddc40] \u001b[0mcoded y,u,v intra: 58.5% 23.3% 29.1% inter: 13.9% 1.8% 3.2%\n",
      "\u001b[1;36m[libx264 @ 0x55b0b61ddc40] \u001b[0mi16 v,h,dc,p: 24% 24% 17% 34%\n",
      "\u001b[1;36m[libx264 @ 0x55b0b61ddc40] \u001b[0mi8 v,h,dc,ddl,ddr,vr,hd,vl,hu: 24% 20% 23%  5%  5%  5%  5%  6%  7%\n",
      "\u001b[1;36m[libx264 @ 0x55b0b61ddc40] \u001b[0mi4 v,h,dc,ddl,ddr,vr,hd,vl,hu: 25% 21% 16%  6%  6%  6%  7%  7%  8%\n",
      "\u001b[1;36m[libx264 @ 0x55b0b61ddc40] \u001b[0mWeighted P-Frames: Y:0.7% UV:0.4%\n",
      "\u001b[1;36m[libx264 @ 0x55b0b61ddc40] \u001b[0mref P L0: 46.0% 11.0% 27.9% 15.0%  0.0%\n",
      "\u001b[1;36m[libx264 @ 0x55b0b61ddc40] \u001b[0mref B L0: 72.1% 18.6%  9.2%\n",
      "\u001b[1;36m[libx264 @ 0x55b0b61ddc40] \u001b[0mref B L1: 92.2%  7.8%\n",
      "\u001b[1;36m[libx264 @ 0x55b0b61ddc40] \u001b[0mkb/s:1100.90\n"
     ]
    }
   ],
   "source": [
    "!ffmpeg -i color1.mp4 -vf \"hflip,vflip\"  \\\n",
    "-codec:v libx264 -codec:a copy color1flipped.mp4"
   ]
  },
  {
   "cell_type": "code",
   "execution_count": 19,
   "id": "3ef5076b",
   "metadata": {},
   "outputs": [
    {
     "ename": "NameError",
     "evalue": "name 'cv2' is not defined",
     "output_type": "error",
     "traceback": [
      "\u001b[0;31m---------------------------------------------------------------------------\u001b[0m",
      "\u001b[0;31mNameError\u001b[0m                                 Traceback (most recent call last)",
      "Input \u001b[0;32mIn [19]\u001b[0m, in \u001b[0;36m<cell line: 1>\u001b[0;34m()\u001b[0m\n\u001b[0;32m----> 1\u001b[0m depth \u001b[38;5;241m=\u001b[39m \u001b[43mcv2\u001b[49m\u001b[38;5;241m.\u001b[39mVideoCapture(\u001b[38;5;124m'\u001b[39m\u001b[38;5;124mchaplin.mp4\u001b[39m\u001b[38;5;124m'\u001b[39m)\n",
      "\u001b[0;31mNameError\u001b[0m: name 'cv2' is not defined"
     ]
    }
   ],
   "source": [
    "\n",
    "\n",
    "\n"
   ]
  },
  {
   "cell_type": "code",
   "execution_count": null,
   "id": "fadae9d6",
   "metadata": {},
   "outputs": [],
   "source": []
  }
 ],
 "metadata": {
  "interpreter": {
   "hash": "152fb8c3128a633d7e832409e1b83292d6c6fe09799ffab89e9ec47149afdd90"
  },
  "kernelspec": {
   "display_name": "Python 3.8.0 ('audiomocap')",
   "language": "python",
   "name": "python3"
  },
  "language_info": {
   "codemirror_mode": {
    "name": "ipython",
    "version": 3
   },
   "file_extension": ".py",
   "mimetype": "text/x-python",
   "name": "python",
   "nbconvert_exporter": "python",
   "pygments_lexer": "ipython3",
   "version": "3.9.7"
  }
 },
 "nbformat": 4,
 "nbformat_minor": 5
}
